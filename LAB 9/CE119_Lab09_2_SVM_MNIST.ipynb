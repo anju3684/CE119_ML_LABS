{
  "nbformat": 4,
  "nbformat_minor": 0,
  "metadata": {
    "colab": {
      "name": "CE075_Lab09_2_SVM_MNIST.ipynb",
      "provenance": []
    },
    "kernelspec": {
      "name": "python3",
      "display_name": "Python 3"
    },
    "language_info": {
      "name": "python"
    }
  },
  "cells": [
    {
      "cell_type": "markdown",
      "metadata": {
        "id": "c5kIEQfWpMlM"
      },
      "source": [
        "**SVM classifier on MNIST dataset, compare the preformance of linear, polynomial and RBF kernels.**"
      ]
    },
    {
      "cell_type": "code",
      "metadata": {
        "id": "fcVWmWbFpa6y"
      },
      "source": [
        "\n",
        "import sys, os\n",
        "import numpy as np\n",
        "import matplotlib.pyplot as plt\n",
        "from sklearn import svm, metrics\n",
        "from sklearn.model_selection import train_test_split\n",
        "from sklearn.datasets import load_digits"
      ],
      "execution_count": 1,
      "outputs": []
    },
    {
      "cell_type": "code",
      "metadata": {
        "id": "WKcphuj-pdCc"
      },
      "source": [
        "\n",
        "digits = load_digits()"
      ],
      "execution_count": 2,
      "outputs": []
    },
    {
      "cell_type": "code",
      "metadata": {
        "colab": {
          "base_uri": "https://localhost:8080/"
        },
        "id": "oSuOV-eopeH1",
        "outputId": "f6556a72-7af4-4c14-8a70-0813aa6d23a8"
      },
      "source": [
        "digits.data.shape"
      ],
      "execution_count": 3,
      "outputs": [
        {
          "output_type": "execute_result",
          "data": {
            "text/plain": [
              "(1797, 64)"
            ]
          },
          "metadata": {},
          "execution_count": 3
        }
      ]
    },
    {
      "cell_type": "code",
      "metadata": {
        "colab": {
          "base_uri": "https://localhost:8080/"
        },
        "id": "A0F-sAS_pfe9",
        "outputId": "8640a701-2cb3-49c2-9fb6-62ef24f47cb7"
      },
      "source": [
        "\n",
        "print(digits.target)"
      ],
      "execution_count": 4,
      "outputs": [
        {
          "output_type": "stream",
          "name": "stdout",
          "text": [
            "[0 1 2 ... 8 9 8]\n"
          ]
        }
      ]
    },
    {
      "cell_type": "code",
      "metadata": {
        "id": "oGOCPaCRpgqX"
      },
      "source": [
        "X_train, X_test, y_train, y_test = train_test_split(digits.data, digits.target, test_size = 0.3 ,random_state = 12)\n"
      ],
      "execution_count": 5,
      "outputs": []
    },
    {
      "cell_type": "markdown",
      "metadata": {
        "id": "9VfjAiQ3piXP"
      },
      "source": [
        "**Linear SVM Classifier**"
      ]
    },
    {
      "cell_type": "code",
      "metadata": {
        "id": "ESuzOowFpjKn"
      },
      "source": [
        "lsc = svm.SVC(kernel='linear')"
      ],
      "execution_count": 6,
      "outputs": []
    },
    {
      "cell_type": "code",
      "metadata": {
        "colab": {
          "base_uri": "https://localhost:8080/"
        },
        "id": "jjToTIfGpk5b",
        "outputId": "654d7e08-ff62-452c-c3b8-4015d01fafb3"
      },
      "source": [
        "lsc.fit(X_train, y_train)"
      ],
      "execution_count": 7,
      "outputs": [
        {
          "output_type": "execute_result",
          "data": {
            "text/plain": [
              "SVC(C=1.0, break_ties=False, cache_size=200, class_weight=None, coef0=0.0,\n",
              "    decision_function_shape='ovr', degree=3, gamma='scale', kernel='linear',\n",
              "    max_iter=-1, probability=False, random_state=None, shrinking=True,\n",
              "    tol=0.001, verbose=False)"
            ]
          },
          "metadata": {},
          "execution_count": 7
        }
      ]
    },
    {
      "cell_type": "code",
      "metadata": {
        "id": "mZgyj_gQpnBj"
      },
      "source": [
        "\n",
        "lin_y_pred = lsc.predict(X_test)"
      ],
      "execution_count": 8,
      "outputs": []
    },
    {
      "cell_type": "code",
      "metadata": {
        "colab": {
          "base_uri": "https://localhost:8080/"
        },
        "id": "pkRJP7JXpopQ",
        "outputId": "3e309482-8372-4a2b-f94e-968e3606774d"
      },
      "source": [
        "\n",
        "print(\"Accuracy:\", metrics.accuracy_score(y_test, lin_y_pred))"
      ],
      "execution_count": 9,
      "outputs": [
        {
          "output_type": "stream",
          "name": "stdout",
          "text": [
            "Accuracy: 0.9814814814814815\n"
          ]
        }
      ]
    },
    {
      "cell_type": "markdown",
      "metadata": {
        "id": "eOLm_v3hpp2D"
      },
      "source": [
        "\n",
        "**RBF SVM Classifier** "
      ]
    },
    {
      "cell_type": "code",
      "metadata": {
        "id": "7Gh6QwPgpuMO"
      },
      "source": [
        "\n",
        "rbf_svm = svm.SVC(kernel='rbf')"
      ],
      "execution_count": 10,
      "outputs": []
    },
    {
      "cell_type": "code",
      "metadata": {
        "colab": {
          "base_uri": "https://localhost:8080/"
        },
        "id": "0W9OOxGVpvTG",
        "outputId": "40436aa8-32d0-405e-de62-0c5ad9a9fcd5"
      },
      "source": [
        "rbf_svm.fit(X_train, y_train)"
      ],
      "execution_count": 11,
      "outputs": [
        {
          "output_type": "execute_result",
          "data": {
            "text/plain": [
              "SVC(C=1.0, break_ties=False, cache_size=200, class_weight=None, coef0=0.0,\n",
              "    decision_function_shape='ovr', degree=3, gamma='scale', kernel='rbf',\n",
              "    max_iter=-1, probability=False, random_state=None, shrinking=True,\n",
              "    tol=0.001, verbose=False)"
            ]
          },
          "metadata": {},
          "execution_count": 11
        }
      ]
    },
    {
      "cell_type": "code",
      "metadata": {
        "id": "0SbhNG0VpxEB"
      },
      "source": [
        "rbf_y_pred = rbf_svm.predict(X_test)"
      ],
      "execution_count": 12,
      "outputs": []
    },
    {
      "cell_type": "code",
      "metadata": {
        "colab": {
          "base_uri": "https://localhost:8080/"
        },
        "id": "ZF1rfdPdpyU-",
        "outputId": "7b37965c-6dbc-41e0-90bd-f9c2a0c78b71"
      },
      "source": [
        "\n",
        "print(\"Accuracy:\", metrics.accuracy_score(y_test, rbf_y_pred))"
      ],
      "execution_count": 13,
      "outputs": [
        {
          "output_type": "stream",
          "name": "stdout",
          "text": [
            "Accuracy: 0.9851851851851852\n"
          ]
        }
      ]
    },
    {
      "cell_type": "markdown",
      "metadata": {
        "id": "Uj7cIBwFp0Zg"
      },
      "source": [
        "**Polynominal SVM Classifier**"
      ]
    },
    {
      "cell_type": "code",
      "metadata": {
        "id": "6sT5sCtKp1SA"
      },
      "source": [
        "p_svm = svm.SVC(kernel='poly')"
      ],
      "execution_count": 14,
      "outputs": []
    },
    {
      "cell_type": "code",
      "metadata": {
        "colab": {
          "base_uri": "https://localhost:8080/"
        },
        "id": "z0ez02v6p3Vg",
        "outputId": "ffc57e62-5e5e-4f38-be7b-c915e3da986e"
      },
      "source": [
        "\n",
        "p_svm.fit(X_train, y_train)"
      ],
      "execution_count": 15,
      "outputs": [
        {
          "output_type": "execute_result",
          "data": {
            "text/plain": [
              "SVC(C=1.0, break_ties=False, cache_size=200, class_weight=None, coef0=0.0,\n",
              "    decision_function_shape='ovr', degree=3, gamma='scale', kernel='poly',\n",
              "    max_iter=-1, probability=False, random_state=None, shrinking=True,\n",
              "    tol=0.001, verbose=False)"
            ]
          },
          "metadata": {},
          "execution_count": 15
        }
      ]
    },
    {
      "cell_type": "code",
      "metadata": {
        "id": "voGrAAW9p5qD"
      },
      "source": [
        "poly_y_pred = p_svm.predict(X_test)"
      ],
      "execution_count": 16,
      "outputs": []
    },
    {
      "cell_type": "code",
      "metadata": {
        "colab": {
          "base_uri": "https://localhost:8080/"
        },
        "id": "tPjd3-wMp61p",
        "outputId": "af25ca86-00f7-44df-dda4-eaa9a6eff123"
      },
      "source": [
        "print(\"Accuracy:\", metrics.accuracy_score(y_test, poly_y_pred))"
      ],
      "execution_count": 17,
      "outputs": [
        {
          "output_type": "stream",
          "name": "stdout",
          "text": [
            "Accuracy: 0.9925925925925926\n"
          ]
        }
      ]
    }
  ]
}