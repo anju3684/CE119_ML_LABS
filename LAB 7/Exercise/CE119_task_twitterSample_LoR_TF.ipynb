{
  "nbformat": 4,
  "nbformat_minor": 0,
  "metadata": {
    "colab": {
      "name": "CE075_task_twitterSample_LoR_TF.ipynb",
      "provenance": []
    },
    "kernelspec": {
      "name": "python3",
      "display_name": "Python 3"
    },
    "language_info": {
      "name": "python"
    }
  },
  "cells": [
    {
      "cell_type": "code",
      "metadata": {
        "id": "kWNMklDXbUD9"
      },
      "source": [
        "# importing libraries\n",
        "\n",
        "import nltk\n",
        "import pandas as pd\n",
        "import re\n",
        "import string\n",
        "import numpy as np\n",
        "\n",
        "# import model libraries\n",
        "import tensorflow as tf\n",
        "\n",
        "# for visualizatiobn\n",
        "import matplotlib.pyplot as plt\n",
        "\n",
        "# NLTK libraries\n",
        "from nltk.corpus import stopwords\n",
        "from nltk.stem import PorterStemmer\n",
        "from nltk.tokenize import TweetTokenizer\n",
        "from nltk.corpus import twitter_samples\n",
        "from sklearn.model_selection import train_test_split\n",
        "\n",
        "#This function can only be called before any Graphs, Ops, or Tensors have been created.\n",
        "#It can be used at the beginning of the program for complex migration projects from TensorFlow 1.x to 2.x.\n",
        "from tensorflow.python.framework.ops import disable_eager_execution\n",
        "disable_eager_execution()"
      ],
      "execution_count": 1,
      "outputs": []
    },
    {
      "cell_type": "code",
      "metadata": {
        "colab": {
          "base_uri": "https://localhost:8080/"
        },
        "id": "VCTNcsTubzjs",
        "outputId": "8f9cdcc8-321a-4253-8146-f61fe248942e"
      },
      "source": [
        "# downloading daatsets\n",
        "\n",
        "nltk.download('twitter_samples')\n",
        "nltk.download('stopwords')"
      ],
      "execution_count": 2,
      "outputs": [
        {
          "output_type": "stream",
          "name": "stdout",
          "text": [
            "[nltk_data] Downloading package twitter_samples to /root/nltk_data...\n",
            "[nltk_data]   Unzipping corpora/twitter_samples.zip.\n",
            "[nltk_data] Downloading package stopwords to /root/nltk_data...\n",
            "[nltk_data]   Unzipping corpora/stopwords.zip.\n"
          ]
        },
        {
          "output_type": "execute_result",
          "data": {
            "text/plain": [
              "True"
            ]
          },
          "metadata": {},
          "execution_count": 2
        }
      ]
    },
    {
      "cell_type": "code",
      "metadata": {
        "colab": {
          "base_uri": "https://localhost:8080/"
        },
        "id": "-B6jcgwZdpUh",
        "outputId": "0440861a-a2ac-4e94-c6f6-913bbc6675aa"
      },
      "source": [
        "# getting positive and negative dataset\n",
        "\n",
        "all_positive_tweets = twitter_samples.strings('positive_tweets.json')\n",
        "all_negative_tweets = twitter_samples.strings('negative_tweets.json')\n",
        "\n",
        "print(\"positive tweets\\n\")\n",
        "for _ in range(5):\n",
        "  print(all_positive_tweets[_])\n",
        "\n",
        "print()\n",
        "print(\"negative tweets\\n\")\n",
        "for _ in range(5):\n",
        "  print(all_negative_tweets[_])"
      ],
      "execution_count": 3,
      "outputs": [
        {
          "output_type": "stream",
          "name": "stdout",
          "text": [
            "positive tweets\n",
            "\n",
            "#FollowFriday @France_Inte @PKuchly57 @Milipol_Paris for being top engaged members in my community this week :)\n",
            "@Lamb2ja Hey James! How odd :/ Please call our Contact Centre on 02392441234 and we will be able to assist you :) Many thanks!\n",
            "@DespiteOfficial we had a listen last night :) As You Bleed is an amazing track. When are you in Scotland?!\n",
            "@97sides CONGRATS :)\n",
            "yeaaaah yippppy!!!  my accnt verified rqst has succeed got a blue tick mark on my fb profile :) in 15 days\n",
            "\n",
            "negative tweets\n",
            "\n",
            "hopeless for tmr :(\n",
            "Everything in the kids section of IKEA is so cute. Shame I'm nearly 19 in 2 months :(\n",
            "@Hegelbon That heart sliding into the waste basket. :(\n",
            "“@ketchBurning: I hate Japanese call him \"bani\" :( :(”\n",
            "\n",
            "Me too\n",
            "Dang starting next week I have \"work\" :(\n"
          ]
        }
      ]
    },
    {
      "cell_type": "code",
      "metadata": {
        "colab": {
          "base_uri": "https://localhost:8080/"
        },
        "id": "Qaqdq-q7eL7L",
        "outputId": "b54cc7c9-60cf-4376-e285-8bc79326c37d"
      },
      "source": [
        "# mixed data\n",
        "\n",
        "main_data = all_negative_tweets + all_negative_tweets\n",
        "\n",
        "# make labels for positive tweets its '1' and for negative tweets its '0'\n",
        "main_labels = np.append(np.ones((len(all_positive_tweets), 1)), np.zeros((len(all_negative_tweets), 1)), axis = 0)\n",
        "\n",
        "print(\"main_data\\n\")\n",
        "for _ in range(5):\n",
        "  print(main_data[_])\n",
        "\n",
        "print(\"\\nprint labels\")\n",
        "print(main_labels)\n",
        "\n",
        "print(len(main_data))"
      ],
      "execution_count": 4,
      "outputs": [
        {
          "output_type": "stream",
          "name": "stdout",
          "text": [
            "main_data\n",
            "\n",
            "hopeless for tmr :(\n",
            "Everything in the kids section of IKEA is so cute. Shame I'm nearly 19 in 2 months :(\n",
            "@Hegelbon That heart sliding into the waste basket. :(\n",
            "“@ketchBurning: I hate Japanese call him \"bani\" :( :(”\n",
            "\n",
            "Me too\n",
            "Dang starting next week I have \"work\" :(\n",
            "\n",
            "print labels\n",
            "[[1.]\n",
            " [1.]\n",
            " [1.]\n",
            " ...\n",
            " [0.]\n",
            " [0.]\n",
            " [0.]]\n",
            "10000\n"
          ]
        }
      ]
    },
    {
      "cell_type": "code",
      "metadata": {
        "id": "1KcI1g68fQWu"
      },
      "source": [
        "# train test split\n",
        "\n",
        "train_x, test_x, train_y, test_y = train_test_split(main_data, main_labels, test_size = 0.30, random_state = 75)"
      ],
      "execution_count": 5,
      "outputs": []
    },
    {
      "cell_type": "code",
      "metadata": {
        "id": "xUsgyi7QfiMb"
      },
      "source": [
        "# whole methods and fcuntions for TF model training!\n",
        "\n",
        "class MyTweetLogisticRegressionModel:\n",
        "  def __transform_data(self, tweets):\n",
        "    data = []\n",
        "    for tweet in tweets:\n",
        "      data.append(self.extract_features(tweet))\n",
        "      #print(data)\n",
        "    return (np.asarray(data))\n",
        "\n",
        "\n",
        "  def fit(self, x, y, alpha = 1e-4, epochs = 20, threshold_val = 0.5, record_epoch = False):\n",
        "    self.threshold_val = threshold_val\n",
        "    self._freq = self.get_freqs(x, y)\n",
        "    self._shape = 2\n",
        "    self._inputs = self.__transform_data(x)\n",
        "    self._tlen = len(y)\n",
        "\n",
        "    # return sample of standard normal distribution\n",
        "    self._bias = tf.Variable(np.random.randn(1), name = \"Bias\")\n",
        "    self._weights = tf.Variable(np.random.randn(1, self._shape), name = \"Weight\")\n",
        "    self._tinit = tf.compat.v1.global_variables_initializer()\n",
        "    \n",
        "    self._targets = np.asarray(y)\n",
        "    self.alpha = alpha\n",
        "    self.epochs = epochs\n",
        "    self._repoch = record_epoch\n",
        "    self.__trainModel()\n",
        "    return\n",
        "\n",
        "\n",
        "  def __initSaver(self):\n",
        "    saver = tf.compat.v1.train.Saver()\n",
        "    self._saver = saver\n",
        "    self._sesspath = 'TSession'\n",
        "    return\n",
        "\n",
        "\n",
        "  def threshold(self, val):\n",
        "    if (val >= self.threshold_val):\n",
        "      return (1)\n",
        "    return (0)\n",
        "\n",
        "\n",
        "  def process_tweet(self, tweet):\n",
        "    stemmer = PorterStemmer()\n",
        "    stopwords_english = stopwords.words('english')\n",
        "    # remove stock market tickers like $GE\n",
        "    tweet = re.sub(r'\\$\\w*', '', tweet)\n",
        "    # remove old style retweet text \"RT\"\n",
        "    tweet = re.sub(r'^RT[\\s]+', '', tweet)\n",
        "    # remove hyperlinks\n",
        "    tweet = re.sub(r'https?:\\/\\/.*[\\r\\n]*', '', tweet)\n",
        "    # remove hashtags\n",
        "    # only removing the hash # sign from the word\n",
        "    tweet = re.sub(r'#', '', tweet)\n",
        "    # tokenize tweets\n",
        "    tokenizer = TweetTokenizer(preserve_case = False, strip_handles = True, reduce_len = True)\n",
        "    tweet_tokens = tokenizer.tokenize(tweet)\n",
        "    tweets_clean = []\n",
        "    # cleaning the tweets\n",
        "    for word in tweet_tokens:\n",
        "      if word not in stopwords_english and word not in string.punctuation:\n",
        "        tweets_clean.append(stemmer.stem(word))\n",
        "        #print(tweets_clean)\n",
        "    return (tweets_clean)\n",
        "\n",
        "\n",
        "  def predict(self, indata):\n",
        "    with tf.compat.v1.Session() as sess:\n",
        "      self._saver.restore(sess,save_path = self._sesspath)\n",
        "      indata = self.__transform_data(indata)\n",
        "      return sess.run(tf.nn.sigmoid(tf.add(tf.matmul(a = indata, b = self._weights, transpose_b = True), self._bias)))\n",
        "    print(\"Failed To Retrieve Session\")\n",
        "    return\n",
        "\n",
        "\n",
        "  def get_accuracy(self, x, y):\n",
        "    if len(x) != len(y):\n",
        "      print(\"Dimension are different.\")\n",
        "      return\n",
        "    return (((x == y).sum()) / len(y))\n",
        "\n",
        "\n",
        "  def get_freqs(self, tweets, ys):\n",
        "    freqs = dict()\n",
        "    yslist = np.squeeze(ys).tolist()\n",
        "    for y, tweet in zip(yslist, tweets):\n",
        "      for word in self.process_tweet(tweet):\n",
        "        pair = (word, y)\n",
        "        if pair not in freqs:\n",
        "          freqs[pair] = 0\n",
        "        freqs[pair] += 1\n",
        "    return freqs\n",
        "\n",
        "\n",
        "  def extract_features(self, tweet):\n",
        "    freqs = self._freq\n",
        "    word_l = self.process_tweet(tweet)\n",
        "    x = np.zeros((1, 2))\n",
        "    for word in word_l: \n",
        "      if (word, 1) in freqs:\n",
        "        x[0, 0] += freqs[word, 1]\n",
        "      if (word, 0) in freqs:\n",
        "        x[0, 1] += freqs[word, 0]\n",
        "    assert(x.shape == (1, 2))\n",
        "    return x[0]\n",
        "\n",
        "\n",
        "  def getAccDets(self):\n",
        "    if self._repoch:\n",
        "      return self.__accurary_det\n",
        "    return\n",
        "\n",
        "\n",
        "  def __trainModel(self):\n",
        "    if self._repoch:\n",
        "      self._err = []\n",
        "      self._precs = []\n",
        "      self.__accurary_det = []\n",
        "    \n",
        "    # model of logistic regreesion of tensorflow.\n",
        "    logi = tf.nn.sigmoid(tf.add(tf.matmul(a = self._inputs, b = self._weights, transpose_b = True), self._bias))\n",
        "    err = tf.nn.sigmoid_cross_entropy_with_logits(logits = logi, labels = self._targets)\n",
        "    temp = tf.compat.v1.train.GradientDescentOptimizer(learning_rate = self.alpha, name='GradientDescent').minimize(err)\n",
        "    self.__initSaver()\n",
        "    with tf.compat.v1.Session() as sess:\n",
        "      sess.run(self._tinit)\n",
        "      print(\"Bias\", sess.run(self._bias))\n",
        "      print(\"Weights\", sess.run(self._weights))\n",
        "      for epoch in range(self.epochs):\n",
        "        sess.run(temp)\n",
        "        __preds = sess.run(logi)\n",
        "        acc = ((__preds == self._targets).sum()) / self._tlen\n",
        "        if self._repoch:\n",
        "          self.__accurary_det.append(acc)\n",
        "        if epoch % 100 == 0:\n",
        "          print(\"Acc:\", acc)\n",
        "        # print(self.__accurary_det)\n",
        "      self._saver.save(sess, self._sesspath)\n",
        "    return"
      ],
      "execution_count": 7,
      "outputs": []
    },
    {
      "cell_type": "code",
      "metadata": {
        "colab": {
          "base_uri": "https://localhost:8080/"
        },
        "id": "SR4ggBnyhZUD",
        "outputId": "eddeb3db-7eb0-40a0-fe7d-e54517572c93"
      },
      "source": [
        "tf_lr_model = MyTweetLogisticRegressionModel()\n",
        "\n",
        "tf_lr_model.fit(x = train_x, y = train_y, alpha = 0.01, record_epoch = True, epochs = 500)"
      ],
      "execution_count": 8,
      "outputs": [
        {
          "output_type": "stream",
          "name": "stdout",
          "text": [
            "Bias [0.07820205]\n",
            "Weights [[ 0.1049527  -2.07622187]]\n",
            "Acc: 0.48314285714285715\n",
            "Acc: 0.4775714285714286\n",
            "Acc: 0.4724285714285714\n",
            "Acc: 0.46585714285714286\n",
            "Acc: 0.45585714285714285\n"
          ]
        }
      ]
    }
  ]
}